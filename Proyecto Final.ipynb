{
 "cells": [
  {
   "cell_type": "markdown",
   "metadata": {},
   "source": [
    "# Proyecto Final - Regresión Poisson"
   ]
  },
  {
   "cell_type": "markdown",
   "metadata": {},
   "source": [
    "Los datos utilizados son tomados de https://www.datos.gov.co/ donde se registran los Homicidios ocurridos en el país. Para la construcción del modelo se toman los datos de Homicidios en el año 2017 (https://www.datos.gov.co/Seguridad-y-Defensa/Homicidios-2017/mkw6-468s). Para la validación, se contrastará con los Homicidios que fueron registrados en el año 2018 (https://www.datos.gov.co/Seguridad-y-Defensa/Homicidios-2018/ndtu-iqtk).\n",
    "\n",
    "Para construir los conjuntos de datos se toman los días de todos los meses, el sexo ,la edad promedio, y la cantidad de homicidios registrados. A continuación se muestra la estructura de los datos para las primeras filas:"
   ]
  },
  {
   "cell_type": "code",
   "execution_count": 21,
   "metadata": {},
   "outputs": [
    {
     "data": {
      "text/html": [
       "<table>\n",
       "<thead><tr><th scope=col>diaMes</th><th scope=col>Sexo</th><th scope=col>EdadPromedio</th><th scope=col>Homicidios</th></tr></thead>\n",
       "<tbody>\n",
       "\t<tr><td>1        </td><td>FEMENINO </td><td>36.25000 </td><td> 8       </td></tr>\n",
       "\t<tr><td>1        </td><td>MASCULINO</td><td>30.74194 </td><td>31       </td></tr>\n",
       "\t<tr><td>2        </td><td>FEMENINO </td><td>34.40000 </td><td> 5       </td></tr>\n",
       "\t<tr><td>2        </td><td>MASCULINO</td><td>31.00000 </td><td>33       </td></tr>\n",
       "\t<tr><td>3        </td><td>FEMENINO </td><td>50.00000 </td><td> 5       </td></tr>\n",
       "\t<tr><td>3        </td><td>MASCULINO</td><td>31.25641 </td><td>39       </td></tr>\n",
       "</tbody>\n",
       "</table>\n"
      ],
      "text/latex": [
       "\\begin{tabular}{r|llll}\n",
       " diaMes & Sexo & EdadPromedio & Homicidios\\\\\n",
       "\\hline\n",
       "\t 1         & FEMENINO  & 36.25000  &  8       \\\\\n",
       "\t 1         & MASCULINO & 30.74194  & 31       \\\\\n",
       "\t 2         & FEMENINO  & 34.40000  &  5       \\\\\n",
       "\t 2         & MASCULINO & 31.00000  & 33       \\\\\n",
       "\t 3         & FEMENINO  & 50.00000  &  5       \\\\\n",
       "\t 3         & MASCULINO & 31.25641  & 39       \\\\\n",
       "\\end{tabular}\n"
      ],
      "text/markdown": [
       "\n",
       "diaMes | Sexo | EdadPromedio | Homicidios | \n",
       "|---|---|---|---|---|---|\n",
       "| 1         | FEMENINO  | 36.25000  |  8        | \n",
       "| 1         | MASCULINO | 30.74194  | 31        | \n",
       "| 2         | FEMENINO  | 34.40000  |  5        | \n",
       "| 2         | MASCULINO | 31.00000  | 33        | \n",
       "| 3         | FEMENINO  | 50.00000  |  5        | \n",
       "| 3         | MASCULINO | 31.25641  | 39        | \n",
       "\n",
       "\n"
      ],
      "text/plain": [
       "  diaMes Sexo      EdadPromedio Homicidios\n",
       "1 1      FEMENINO  36.25000      8        \n",
       "2 1      MASCULINO 30.74194     31        \n",
       "3 2      FEMENINO  34.40000      5        \n",
       "4 2      MASCULINO 31.00000     33        \n",
       "5 3      FEMENINO  50.00000      5        \n",
       "6 3      MASCULINO 31.25641     39        "
      ]
     },
     "metadata": {},
     "output_type": "display_data"
    }
   ],
   "source": [
    "library(readxl)\n",
    "Homicidios2017 = read_excel(\"HomicidiosBogota.xlsx\",sheet = \"H2017\")\n",
    "head(Homicidios2017)"
   ]
  },
  {
   "cell_type": "markdown",
   "metadata": {},
   "source": [
    "la siguiente gráfica muestra en la parte inferior la correlación entre la cantidad de Homicidios, la edad promedio y los días de los meses. En la parte superior se grafica la dispersión entre las variables, identificando con rojo las víctimas de sexo femenino y en azul las de sexo masculino."
   ]
  },
  {
   "cell_type": "code",
   "execution_count": 22,
   "metadata": {
    "scrolled": false
   },
   "outputs": [
    {
     "data": {
      "image/png": "[encoded data removed]",
      "text/plain": [
       "plot without title"
      ]
     },
     "metadata": {},
     "output_type": "display_data"
    }
   ],
   "source": [
    "panel.cor <- function(x, y){\n",
    "    usr <- par(\"usr\"); on.exit(par(usr))\n",
    "    par(usr = c(0, 1, 0, 1))\n",
    "    r <- round(cor(x, y), digits=3)\n",
    "    txt <- paste0(\"R = \", r)\n",
    "    text(0.5, 0.5, r,cex = 3)\n",
    "}\n",
    "upper.panel<-function(x, y){\n",
    "  my_cols <- c(\"red\", \"blue\") \n",
    "  points(x,y, pch = 20, col = my_cols[as.numeric(as.factor(Homicidios2017$Sexo))])\n",
    "}\n",
    "pairs(Homicidios2017[c(\"Homicidios\",\"EdadPromedio\",\"diaMes\")],upper.panel = upper.panel,lower.panel = panel.cor)"
   ]
  },
  {
   "cell_type": "markdown",
   "metadata": {},
   "source": [
    "En el diagrama de caja se muestra la cantidad de homicidios respecto al sexo de la víctima. Es claro que la cantidad de víctimas hombres es mucho mayor que la cantidad de víctimas mujeres."
   ]
  },
  {
   "cell_type": "code",
   "execution_count": 23,
   "metadata": {},
   "outputs": [
    {
     "data": {
      "image/png": "[encoded data removed]",
      "text/plain": [
       "plot without title"
      ]
     },
     "metadata": {},
     "output_type": "display_data"
    }
   ],
   "source": [
    "boxplot(Homicidios~Sexo,data=Homicidios2017,col=c(\"red\", \"blue\"))"
   ]
  },
  {
   "cell_type": "code",
   "execution_count": 24,
   "metadata": {
    "scrolled": false
   },
   "outputs": [
    {
     "data": {
      "text/plain": [
       "\n",
       "Call:\n",
       "glm(formula = Homicidios ~ ., family = poisson(log), data = Homicidios2017)\n",
       "\n",
       "Deviance Residuals: \n",
       "     Min        1Q    Median        3Q       Max  \n",
       "-2.04142  -0.91276  -0.03448   0.61020   2.46462  \n",
       "\n",
       "Coefficients:\n",
       "               Estimate Std. Error z value Pr(>|z|)    \n",
       "(Intercept)    1.568056   0.322155   4.867 1.13e-06 ***\n",
       "diaMes        -0.009038   0.003330  -2.714  0.00665 ** \n",
       "SexoMASCULINO  2.180402   0.100693  21.654  < 2e-16 ***\n",
       "EdadPromedio  -0.003617   0.009185  -0.394  0.69369    \n",
       "---\n",
       "Signif. codes:  0 '***' 0.001 '**' 0.01 '*' 0.05 '.' 0.1 ' ' 1\n",
       "\n",
       "(Dispersion parameter for poisson family taken to be 1)\n",
       "\n",
       "    Null deviance: 886.762  on 60  degrees of freedom\n",
       "Residual deviance:  68.066  on 57  degrees of freedom\n",
       "AIC: 331.8\n",
       "\n",
       "Number of Fisher Scoring iterations: 4\n"
      ]
     },
     "metadata": {},
     "output_type": "display_data"
    }
   ],
   "source": [
    "modelo.poisson=glm(Homicidios~.,family = poisson(log),data=Homicidios2017)\n",
    "summary(modelo.poisson)"
   ]
  },
  {
   "cell_type": "markdown",
   "metadata": {},
   "source": [
    "Con la construcción del modelo, se observa una reducción sustancial de la devianza residual respecto a la devianza nula. El criterio de información de Akaike es de 331.8. No es el mejor pero corresponde a la mejor aproximación obtenida a partir de los datos. \n",
    "\n",
    "La ecuación para el conteo de homicidios queda de la siguiente manera, para víctimas Hombres:\n",
    "\n",
    "$$Homicidios_M=e^{1.568-0.009diaMes+2.18Sexo[Masculino]-0.003EdadPromedio}$$\n",
    "\n",
    "Para víctimas mujeres sería\n",
    "\n",
    "$$Homicidios_F=e^{1.568-0.009diaMes-0.003EdadPromedio}$$\n",
    "\n",
    "Los gráficos de los residules:"
   ]
  },
  {
   "cell_type": "code",
   "execution_count": 25,
   "metadata": {},
   "outputs": [
    {
     "data": {
      "image/png": "[encoded data removed]",
      "text/plain": [
       "Plot with title \"\""
      ]
     },
     "metadata": {},
     "output_type": "display_data"
    }
   ],
   "source": [
    "oldpar <- par(oma=c(0,0,3,0), mfrow=c(2,2))\n",
    "plot(modelo.poisson)\n",
    "par(oldpar)"
   ]
  },
  {
   "cell_type": "markdown",
   "metadata": {},
   "source": [
    "Para la validación del modelo se cargan los datos de Homicidios ocurridos en el año 2018."
   ]
  },
  {
   "cell_type": "code",
   "execution_count": 26,
   "metadata": {},
   "outputs": [
    {
     "data": {
      "text/html": [
       "<table>\n",
       "<thead><tr><th scope=col>diaMes</th><th scope=col>Sexo</th><th scope=col>EdadPromedio</th><th scope=col>Homicidios</th></tr></thead>\n",
       "<tbody>\n",
       "\t<tr><td>1        </td><td>FEMENINO </td><td>41.75000 </td><td> 4       </td></tr>\n",
       "\t<tr><td>1        </td><td>MASCULINO</td><td>31.87500 </td><td>48       </td></tr>\n",
       "\t<tr><td>2        </td><td>FEMENINO </td><td>31.80000 </td><td> 5       </td></tr>\n",
       "\t<tr><td>2        </td><td>MASCULINO</td><td>32.81818 </td><td>44       </td></tr>\n",
       "\t<tr><td>3        </td><td>FEMENINO </td><td>50.00000 </td><td> 1       </td></tr>\n",
       "\t<tr><td>3        </td><td>MASCULINO</td><td>31.96774 </td><td>31       </td></tr>\n",
       "</tbody>\n",
       "</table>\n"
      ],
      "text/latex": [
       "\\begin{tabular}{r|llll}\n",
       " diaMes & Sexo & EdadPromedio & Homicidios\\\\\n",
       "\\hline\n",
       "\t 1         & FEMENINO  & 41.75000  &  4       \\\\\n",
       "\t 1         & MASCULINO & 31.87500  & 48       \\\\\n",
       "\t 2         & FEMENINO  & 31.80000  &  5       \\\\\n",
       "\t 2         & MASCULINO & 32.81818  & 44       \\\\\n",
       "\t 3         & FEMENINO  & 50.00000  &  1       \\\\\n",
       "\t 3         & MASCULINO & 31.96774  & 31       \\\\\n",
       "\\end{tabular}\n"
      ],
      "text/markdown": [
       "\n",
       "diaMes | Sexo | EdadPromedio | Homicidios | \n",
       "|---|---|---|---|---|---|\n",
       "| 1         | FEMENINO  | 41.75000  |  4        | \n",
       "| 1         | MASCULINO | 31.87500  | 48        | \n",
       "| 2         | FEMENINO  | 31.80000  |  5        | \n",
       "| 2         | MASCULINO | 32.81818  | 44        | \n",
       "| 3         | FEMENINO  | 50.00000  |  1        | \n",
       "| 3         | MASCULINO | 31.96774  | 31        | \n",
       "\n",
       "\n"
      ],
      "text/plain": [
       "  diaMes Sexo      EdadPromedio Homicidios\n",
       "1 1      FEMENINO  41.75000      4        \n",
       "2 1      MASCULINO 31.87500     48        \n",
       "3 2      FEMENINO  31.80000      5        \n",
       "4 2      MASCULINO 32.81818     44        \n",
       "5 3      FEMENINO  50.00000      1        \n",
       "6 3      MASCULINO 31.96774     31        "
      ]
     },
     "metadata": {},
     "output_type": "display_data"
    }
   ],
   "source": [
    "Homicidios2018 = read_excel(\"HomicidiosBogota.xlsx\",sheet = \"H2018\")\n",
    "head(Homicidios2018)"
   ]
  },
  {
   "cell_type": "code",
   "execution_count": 27,
   "metadata": {
    "scrolled": false
   },
   "outputs": [
    {
     "data": {
      "image/png": "[encoded data removed]",
      "text/plain": [
       "plot without title"
      ]
     },
     "metadata": {},
     "output_type": "display_data"
    }
   ],
   "source": [
    "prediccion.poisson=predict(modelo.poisson,newdata = Homicidios2018[,1:3],type = \"response\")\n",
    "plot(prediccion.poisson, col=\"red\",pch=20)\n",
    "points(Homicidios2018$Homicidios,col=\"blue\",pch=19)"
   ]
  },
  {
   "cell_type": "markdown",
   "metadata": {},
   "source": [
    "En la gráfica se muestra en rojo la predicción realizada por el modelo de Homicidios en 2018, y en azul los homicidios ocurridos realmente en ese año."
   ]
  }
 ],
 "metadata": {
  "kernelspec": {
   "display_name": "R",
   "language": "R",
   "name": "ir"
  },
  "language_info": {
   "codemirror_mode": "r",
   "file_extension": ".r",
   "mimetype": "text/x-r-source",
   "name": "R",
   "pygments_lexer": "r",
   "version": "3.5.1"
  }
 },
 "nbformat": 4,
 "nbformat_minor": 2
}
